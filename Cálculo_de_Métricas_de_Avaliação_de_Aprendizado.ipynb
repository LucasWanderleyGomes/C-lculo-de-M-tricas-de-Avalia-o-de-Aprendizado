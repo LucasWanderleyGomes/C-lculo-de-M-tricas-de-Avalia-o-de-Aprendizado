{
  "nbformat": 4,
  "nbformat_minor": 0,
  "metadata": {
    "colab": {
      "provenance": [],
      "authorship_tag": "ABX9TyNotkklw5lqK7YdF37yessV",
      "include_colab_link": true
    },
    "kernelspec": {
      "name": "python3",
      "display_name": "Python 3"
    },
    "language_info": {
      "name": "python"
    }
  },
  "cells": [
    {
      "cell_type": "markdown",
      "metadata": {
        "id": "view-in-github",
        "colab_type": "text"
      },
      "source": [
        "<a href=\"https://colab.research.google.com/github/LucasWanderleyGomes/C-lculo-de-M-tricas-de-Avalia-o-de-Aprendizado/blob/main/C%C3%A1lculo_de_M%C3%A9tricas_de_Avalia%C3%A7%C3%A3o_de_Aprendizado.ipynb\" target=\"_parent\"><img src=\"https://colab.research.google.com/assets/colab-badge.svg\" alt=\"Open In Colab\"/></a>"
      ]
    },
    {
      "cell_type": "markdown",
      "source": [
        "# Projeto: Matriz de Confusão + Métricas com Keras (MNIST)\n",
        "**Objetivo:** Treinar um modelo simples com Keras (TensorFlow), gerar a matriz de confusão e calcular métricas (Acurácia, Precisão, Sensibilidade/Recall, Especificidade e F1) *por classe* a partir da matriz.\n",
        "\n",
        "Este notebook:\n",
        "- Carrega e prepara o dataset MNIST;\n",
        "- Treina uma CNN simples;\n",
        "- Gera e plota a matriz de confusão (bruta e normalizada);\n",
        "- Calcula VP, VN, FP, FN por classe e as métricas pedidas;\n",
        "- Mostra os resultados em um `DataFrame` e compara com `classification_report`.\n",
        "\n",
        "\n"
      ],
      "metadata": {
        "id": "UloDuVwlZC47"
      }
    },
    {
      "cell_type": "code",
      "source": [
        "# ============ Setup ============\n",
        "import numpy as np\n",
        "import pandas as pd\n",
        "import matplotlib.pyplot as plt\n",
        "import seaborn as sns\n",
        "\n",
        "import tensorflow as tf\n",
        "from tensorflow.keras import datasets, layers, models\n",
        "\n",
        "from sklearn.metrics import confusion_matrix, classification_report\n",
        "\n",
        "# Fixar seeds para resultados reproduzíveis (até certo ponto)\n",
        "np.random.seed(42)\n",
        "tf.random.set_seed(42)\n",
        "\n",
        "print(\"Numpy:\", np.__version__)\n",
        "print(\"Pandas:\", pd.__version__)\n",
        "print(\"TensorFlow:\", tf.__version__)\n",
        "print(\"Seaborn:\", sns.__version__)\n"
      ],
      "metadata": {
        "colab": {
          "base_uri": "https://localhost:8080/"
        },
        "id": "151zHk0HZGdc",
        "outputId": "038d4fd7-22e9-43ac-9594-86f57e87ef32"
      },
      "execution_count": null,
      "outputs": [
        {
          "output_type": "stream",
          "name": "stdout",
          "text": [
            "Numpy: 2.0.2\n",
            "Pandas: 2.2.2\n",
            "TensorFlow: 2.19.0\n",
            "Seaborn: 0.13.2\n"
          ]
        }
      ]
    },
    {
      "cell_type": "markdown",
      "source": [
        "## 1) O dataset MNIST\n",
        "MNIST tem 60k imagens de treino e 10k de teste (dígitos 0-9, 28x28 pixels).  \n",
        "Vamos usar o dataset original do Keras, normalizar os pixels para [0,1] e preparar para uma CNN (channel=1).\n"
      ],
      "metadata": {
        "id": "_HFzuDmLZQ6c"
      }
    },
    {
      "cell_type": "code",
      "source": [
        "# ============ Carregar dados ============\n",
        "(X_train, y_train), (X_test, y_test) = datasets.mnist.load_data()\n",
        "\n",
        "# Normalizar\n",
        "X_train = X_train.astype(\"float32\") / 255.0\n",
        "X_test  = X_test.astype(\"float32\") / 255.0\n",
        "\n",
        "# Adicionar canal\n",
        "X_train = X_train[..., np.newaxis]  # shape (60000, 28, 28, 1)\n",
        "X_test  = X_test[..., np.newaxis]\n",
        "\n",
        "print(\"Shapes:\", X_train.shape, y_train.shape, X_test.shape, y_test.shape)\n",
        "\n",
        "# Visualizar algumas imagens\n",
        "plt.figure(figsize=(8,4))\n",
        "for i in range(10):\n",
        "    plt.subplot(2,5,i+1)\n",
        "    plt.imshow(X_train[i].squeeze(), cmap='gray')\n",
        "    plt.title(f\"Label: {y_train[i]}\")\n",
        "    plt.axis('off')\n",
        "plt.suptitle(\"Amostras MNIST\")\n",
        "plt.show()\n"
      ],
      "metadata": {
        "colab": {
          "base_uri": "https://localhost:8080/",
          "height": 420
        },
        "id": "JCn1L97KZTxN",
        "outputId": "346578ac-5557-4505-ebff-822de3719681"
      },
      "execution_count": null,
      "outputs": [
        {
          "output_type": "stream",
          "name": "stdout",
          "text": [
            "Downloading data from https://storage.googleapis.com/tensorflow/tf-keras-datasets/mnist.npz\n",
            "\u001b[1m11490434/11490434\u001b[0m \u001b[32m━━━━━━━━━━━━━━━━━━━━\u001b[0m\u001b[37m\u001b[0m \u001b[1m0s\u001b[0m 0us/step\n",
            "Shapes: (60000, 28, 28, 1) (60000,) (10000, 28, 28, 1) (10000,)\n"
          ]
        },
        {
          "output_type": "display_data",
          "data": {
            "text/plain": [
              "<Figure size 800x400 with 10 Axes>"
            ],
            "image/png": "[encoded data removed]"
          },
          "metadata": {}
        }
      ]
    },
    {
      "cell_type": "markdown",
      "source": [
        "## 2) Pré-processamento rápido\n",
        "- Já normalizamos (0-1).\n",
        "- Não faremos *one-hot* para o loss `sparse_categorical_crossentropy` — deixa a vida mais simples.\n",
        "- Se quiser reduzir treinamento: diminua `epochs` ou use uma subamostra do dataset.\n"
      ],
      "metadata": {
        "id": "pTR-NXPdZWWl"
      }
    },
    {
      "cell_type": "code",
      "source": [
        "# ============ Criar modelo ============\n",
        "modelo = models.Sequential([\n",
        "    layers.Conv2D(32, (3,3), activation='relu', input_shape=(28,28,1)),\n",
        "    layers.MaxPooling2D((2,2)),\n",
        "    layers.Conv2D(64, (3,3), activation='relu'),\n",
        "    layers.MaxPooling2D((2,2)),\n",
        "    layers.Flatten(),\n",
        "    layers.Dense(64, activation='relu'),\n",
        "    layers.Dense(10, activation='softmax')\n",
        "])\n",
        "\n",
        "modelo.compile(optimizer='adam',\n",
        "               loss='sparse_categorical_crossentropy',\n",
        "               metrics=['accuracy'])\n",
        "\n",
        "modelo.summary()\n"
      ],
      "metadata": {
        "colab": {
          "base_uri": "https://localhost:8080/",
          "height": 408
        },
        "id": "ewrpG6q9Zbfz",
        "outputId": "ce18ec5c-2091-46f6-fd47-363b6b0ac3a1"
      },
      "execution_count": null,
      "outputs": [
        {
          "output_type": "stream",
          "name": "stderr",
          "text": [
            "/usr/local/lib/python3.12/dist-packages/keras/src/layers/convolutional/base_conv.py:113: UserWarning: Do not pass an `input_shape`/`input_dim` argument to a layer. When using Sequential models, prefer using an `Input(shape)` object as the first layer in the model instead.\n",
            "  super().__init__(activity_regularizer=activity_regularizer, **kwargs)\n"
          ]
        },
        {
          "output_type": "display_data",
          "data": {
            "text/plain": [
              "\u001b[1mModel: \"sequential\"\u001b[0m\n"
            ],
            "text/html": [
              "<pre style=\"white-space:pre;overflow-x:auto;line-height:normal;font-family:Menlo,'DejaVu Sans Mono',consolas,'Courier New',monospace\"><span style=\"font-weight: bold\">Model: \"sequential\"</span>\n",
              "</pre>\n"
            ]
          },
          "metadata": {}
        },
        {
          "output_type": "display_data",
          "data": {
            "text/plain": [
              "┏━━━━━━━━━━━━━━━━━━━━━━━━━━━━━━━━━┳━━━━━━━━━━━━━━━━━━━━━━━━┳━━━━━━━━━━━━━━━┓\n",
              "┃\u001b[1m \u001b[0m\u001b[1mLayer (type)                   \u001b[0m\u001b[1m \u001b[0m┃\u001b[1m \u001b[0m\u001b[1mOutput Shape          \u001b[0m\u001b[1m \u001b[0m┃\u001b[1m \u001b[0m\u001b[1m      Param #\u001b[0m\u001b[1m \u001b[0m┃\n",
              "┡━━━━━━━━━━━━━━━━━━━━━━━━━━━━━━━━━╇━━━━━━━━━━━━━━━━━━━━━━━━╇━━━━━━━━━━━━━━━┩\n",
              "│ conv2d (\u001b[38;5;33mConv2D\u001b[0m)                 │ (\u001b[38;5;45mNone\u001b[0m, \u001b[38;5;34m26\u001b[0m, \u001b[38;5;34m26\u001b[0m, \u001b[38;5;34m32\u001b[0m)     │           \u001b[38;5;34m320\u001b[0m │\n",
              "├─────────────────────────────────┼────────────────────────┼───────────────┤\n",
              "│ max_pooling2d (\u001b[38;5;33mMaxPooling2D\u001b[0m)    │ (\u001b[38;5;45mNone\u001b[0m, \u001b[38;5;34m13\u001b[0m, \u001b[38;5;34m13\u001b[0m, \u001b[38;5;34m32\u001b[0m)     │             \u001b[38;5;34m0\u001b[0m │\n",
              "├─────────────────────────────────┼────────────────────────┼───────────────┤\n",
              "│ conv2d_1 (\u001b[38;5;33mConv2D\u001b[0m)               │ (\u001b[38;5;45mNone\u001b[0m, \u001b[38;5;34m11\u001b[0m, \u001b[38;5;34m11\u001b[0m, \u001b[38;5;34m64\u001b[0m)     │        \u001b[38;5;34m18,496\u001b[0m │\n",
              "├─────────────────────────────────┼────────────────────────┼───────────────┤\n",
              "│ max_pooling2d_1 (\u001b[38;5;33mMaxPooling2D\u001b[0m)  │ (\u001b[38;5;45mNone\u001b[0m, \u001b[38;5;34m5\u001b[0m, \u001b[38;5;34m5\u001b[0m, \u001b[38;5;34m64\u001b[0m)       │             \u001b[38;5;34m0\u001b[0m │\n",
              "├─────────────────────────────────┼────────────────────────┼───────────────┤\n",
              "│ flatten (\u001b[38;5;33mFlatten\u001b[0m)               │ (\u001b[38;5;45mNone\u001b[0m, \u001b[38;5;34m1600\u001b[0m)           │             \u001b[38;5;34m0\u001b[0m │\n",
              "├─────────────────────────────────┼────────────────────────┼───────────────┤\n",
              "│ dense (\u001b[38;5;33mDense\u001b[0m)                   │ (\u001b[38;5;45mNone\u001b[0m, \u001b[38;5;34m64\u001b[0m)             │       \u001b[38;5;34m102,464\u001b[0m │\n",
              "├─────────────────────────────────┼────────────────────────┼───────────────┤\n",
              "│ dense_1 (\u001b[38;5;33mDense\u001b[0m)                 │ (\u001b[38;5;45mNone\u001b[0m, \u001b[38;5;34m10\u001b[0m)             │           \u001b[38;5;34m650\u001b[0m │\n",
              "└─────────────────────────────────┴────────────────────────┴───────────────┘\n"
            ],
            "text/html": [
              "<pre style=\"white-space:pre;overflow-x:auto;line-height:normal;font-family:Menlo,'DejaVu Sans Mono',consolas,'Courier New',monospace\">┏━━━━━━━━━━━━━━━━━━━━━━━━━━━━━━━━━┳━━━━━━━━━━━━━━━━━━━━━━━━┳━━━━━━━━━━━━━━━┓\n",
              "┃<span style=\"font-weight: bold\"> Layer (type)                    </span>┃<span style=\"font-weight: bold\"> Output Shape           </span>┃<span style=\"font-weight: bold\">       Param # </span>┃\n",
              "┡━━━━━━━━━━━━━━━━━━━━━━━━━━━━━━━━━╇━━━━━━━━━━━━━━━━━━━━━━━━╇━━━━━━━━━━━━━━━┩\n",
              "│ conv2d (<span style=\"color: #0087ff; text-decoration-color: #0087ff\">Conv2D</span>)                 │ (<span style=\"color: #00d7ff; text-decoration-color: #00d7ff\">None</span>, <span style=\"color: #00af00; text-decoration-color: #00af00\">26</span>, <span style=\"color: #00af00; text-decoration-color: #00af00\">26</span>, <span style=\"color: #00af00; text-decoration-color: #00af00\">32</span>)     │           <span style=\"color: #00af00; text-decoration-color: #00af00\">320</span> │\n",
              "├─────────────────────────────────┼────────────────────────┼───────────────┤\n",
              "│ max_pooling2d (<span style=\"color: #0087ff; text-decoration-color: #0087ff\">MaxPooling2D</span>)    │ (<span style=\"color: #00d7ff; text-decoration-color: #00d7ff\">None</span>, <span style=\"color: #00af00; text-decoration-color: #00af00\">13</span>, <span style=\"color: #00af00; text-decoration-color: #00af00\">13</span>, <span style=\"color: #00af00; text-decoration-color: #00af00\">32</span>)     │             <span style=\"color: #00af00; text-decoration-color: #00af00\">0</span> │\n",
              "├─────────────────────────────────┼────────────────────────┼───────────────┤\n",
              "│ conv2d_1 (<span style=\"color: #0087ff; text-decoration-color: #0087ff\">Conv2D</span>)               │ (<span style=\"color: #00d7ff; text-decoration-color: #00d7ff\">None</span>, <span style=\"color: #00af00; text-decoration-color: #00af00\">11</span>, <span style=\"color: #00af00; text-decoration-color: #00af00\">11</span>, <span style=\"color: #00af00; text-decoration-color: #00af00\">64</span>)     │        <span style=\"color: #00af00; text-decoration-color: #00af00\">18,496</span> │\n",
              "├─────────────────────────────────┼────────────────────────┼───────────────┤\n",
              "│ max_pooling2d_1 (<span style=\"color: #0087ff; text-decoration-color: #0087ff\">MaxPooling2D</span>)  │ (<span style=\"color: #00d7ff; text-decoration-color: #00d7ff\">None</span>, <span style=\"color: #00af00; text-decoration-color: #00af00\">5</span>, <span style=\"color: #00af00; text-decoration-color: #00af00\">5</span>, <span style=\"color: #00af00; text-decoration-color: #00af00\">64</span>)       │             <span style=\"color: #00af00; text-decoration-color: #00af00\">0</span> │\n",
              "├─────────────────────────────────┼────────────────────────┼───────────────┤\n",
              "│ flatten (<span style=\"color: #0087ff; text-decoration-color: #0087ff\">Flatten</span>)               │ (<span style=\"color: #00d7ff; text-decoration-color: #00d7ff\">None</span>, <span style=\"color: #00af00; text-decoration-color: #00af00\">1600</span>)           │             <span style=\"color: #00af00; text-decoration-color: #00af00\">0</span> │\n",
              "├─────────────────────────────────┼────────────────────────┼───────────────┤\n",
              "│ dense (<span style=\"color: #0087ff; text-decoration-color: #0087ff\">Dense</span>)                   │ (<span style=\"color: #00d7ff; text-decoration-color: #00d7ff\">None</span>, <span style=\"color: #00af00; text-decoration-color: #00af00\">64</span>)             │       <span style=\"color: #00af00; text-decoration-color: #00af00\">102,464</span> │\n",
              "├─────────────────────────────────┼────────────────────────┼───────────────┤\n",
              "│ dense_1 (<span style=\"color: #0087ff; text-decoration-color: #0087ff\">Dense</span>)                 │ (<span style=\"color: #00d7ff; text-decoration-color: #00d7ff\">None</span>, <span style=\"color: #00af00; text-decoration-color: #00af00\">10</span>)             │           <span style=\"color: #00af00; text-decoration-color: #00af00\">650</span> │\n",
              "└─────────────────────────────────┴────────────────────────┴───────────────┘\n",
              "</pre>\n"
            ]
          },
          "metadata": {}
        },
        {
          "output_type": "display_data",
          "data": {
            "text/plain": [
              "\u001b[1m Total params: \u001b[0m\u001b[38;5;34m121,930\u001b[0m (476.29 KB)\n"
            ],
            "text/html": [
              "<pre style=\"white-space:pre;overflow-x:auto;line-height:normal;font-family:Menlo,'DejaVu Sans Mono',consolas,'Courier New',monospace\"><span style=\"font-weight: bold\"> Total params: </span><span style=\"color: #00af00; text-decoration-color: #00af00\">121,930</span> (476.29 KB)\n",
              "</pre>\n"
            ]
          },
          "metadata": {}
        },
        {
          "output_type": "display_data",
          "data": {
            "text/plain": [
              "\u001b[1m Trainable params: \u001b[0m\u001b[38;5;34m121,930\u001b[0m (476.29 KB)\n"
            ],
            "text/html": [
              "<pre style=\"white-space:pre;overflow-x:auto;line-height:normal;font-family:Menlo,'DejaVu Sans Mono',consolas,'Courier New',monospace\"><span style=\"font-weight: bold\"> Trainable params: </span><span style=\"color: #00af00; text-decoration-color: #00af00\">121,930</span> (476.29 KB)\n",
              "</pre>\n"
            ]
          },
          "metadata": {}
        },
        {
          "output_type": "display_data",
          "data": {
            "text/plain": [
              "\u001b[1m Non-trainable params: \u001b[0m\u001b[38;5;34m0\u001b[0m (0.00 B)\n"
            ],
            "text/html": [
              "<pre style=\"white-space:pre;overflow-x:auto;line-height:normal;font-family:Menlo,'DejaVu Sans Mono',consolas,'Courier New',monospace\"><span style=\"font-weight: bold\"> Non-trainable params: </span><span style=\"color: #00af00; text-decoration-color: #00af00\">0</span> (0.00 B)\n",
              "</pre>\n"
            ]
          },
          "metadata": {}
        }
      ]
    },
    {
      "cell_type": "markdown",
      "source": [
        "## 3) Treinamento\n"
      ],
      "metadata": {
        "id": "iReleY3_Zeey"
      }
    },
    {
      "cell_type": "code",
      "source": [
        "# ============ Treinar ============\n",
        "history = modelo.fit(X_train, y_train,\n",
        "                     epochs=10,\n",
        "                     batch_size=128,\n",
        "                     validation_split=0.1,\n",
        "                     verbose=2)\n"
      ],
      "metadata": {
        "colab": {
          "base_uri": "https://localhost:8080/"
        },
        "id": "vG8voVptZisL",
        "outputId": "d724cdc1-83f8-444d-f868-bdac06e0e4a3"
      },
      "execution_count": null,
      "outputs": [
        {
          "output_type": "stream",
          "name": "stdout",
          "text": [
            "Epoch 1/10\n",
            "422/422 - 44s - 103ms/step - accuracy: 0.9254 - loss: 0.2598 - val_accuracy: 0.9808 - val_loss: 0.0685\n",
            "Epoch 2/10\n",
            "422/422 - 40s - 95ms/step - accuracy: 0.9792 - loss: 0.0690 - val_accuracy: 0.9862 - val_loss: 0.0500\n",
            "Epoch 3/10\n",
            "422/422 - 42s - 99ms/step - accuracy: 0.9857 - loss: 0.0478 - val_accuracy: 0.9885 - val_loss: 0.0424\n",
            "Epoch 4/10\n",
            "422/422 - 81s - 192ms/step - accuracy: 0.9883 - loss: 0.0371 - val_accuracy: 0.9892 - val_loss: 0.0375\n",
            "Epoch 5/10\n",
            "422/422 - 40s - 94ms/step - accuracy: 0.9909 - loss: 0.0305 - val_accuracy: 0.9895 - val_loss: 0.0366\n",
            "Epoch 6/10\n",
            "422/422 - 39s - 93ms/step - accuracy: 0.9927 - loss: 0.0244 - val_accuracy: 0.9888 - val_loss: 0.0396\n",
            "Epoch 7/10\n",
            "422/422 - 40s - 95ms/step - accuracy: 0.9946 - loss: 0.0194 - val_accuracy: 0.9898 - val_loss: 0.0397\n",
            "Epoch 8/10\n",
            "422/422 - 39s - 93ms/step - accuracy: 0.9954 - loss: 0.0165 - val_accuracy: 0.9890 - val_loss: 0.0423\n",
            "Epoch 9/10\n",
            "422/422 - 39s - 92ms/step - accuracy: 0.9959 - loss: 0.0135 - val_accuracy: 0.9893 - val_loss: 0.0455\n",
            "Epoch 10/10\n",
            "422/422 - 39s - 92ms/step - accuracy: 0.9968 - loss: 0.0106 - val_accuracy: 0.9888 - val_loss: 0.0471\n"
          ]
        }
      ]
    },
    {
      "cell_type": "markdown",
      "source": [
        "## 4) Avaliação e predições\n",
        "Avaliaremos no conjunto de teste e vamos gerar as previsões  para construir a matriz de confusão.\n"
      ],
      "metadata": {
        "id": "4RCAB1nzZwDr"
      }
    },
    {
      "cell_type": "code",
      "source": [
        "# ============ Avaliar ============\n",
        "loss, acc = modelo.evaluate(X_test, y_test, verbose=2)\n",
        "print(f\"\\nLoss no teste: {loss:.4f} | Acurácia no teste: {acc:.4f}\")\n",
        "\n",
        "# Predições (probabilidades -> rótulo)\n",
        "y_pred_probs = modelo.predict(X_test)\n",
        "y_pred = np.argmax(y_pred_probs, axis=1)\n"
      ],
      "metadata": {
        "colab": {
          "base_uri": "https://localhost:8080/"
        },
        "id": "hCjvOJiJZ1Bt",
        "outputId": "8a18bdc1-85e5-4018-88f8-55c9a98b7a24"
      },
      "execution_count": null,
      "outputs": [
        {
          "output_type": "stream",
          "name": "stdout",
          "text": [
            "313/313 - 2s - 8ms/step - accuracy: 0.9899 - loss: 0.0323\n",
            "\n",
            "Loss no teste: 0.0323 | Acurácia no teste: 0.9899\n",
            "\u001b[1m313/313\u001b[0m \u001b[32m━━━━━━━━━━━━━━━━━━━━\u001b[0m\u001b[37m\u001b[0m \u001b[1m2s\u001b[0m 7ms/step\n"
          ]
        }
      ]
    },
    {
      "cell_type": "markdown",
      "source": [
        "## 5) Matriz de Confusão\n",
        "Vamos calcular a matriz de confusão 10x10 (verdadeiros x preditos), plotá-la e fazer a versão normalizada (% por linha).\n"
      ],
      "metadata": {
        "id": "Oa1hiBDXZ2ee"
      }
    },
    {
      "cell_type": "code",
      "source": [
        "# ============ Matriz de confusão ============\n",
        "cm = confusion_matrix(y_test, y_pred)\n",
        "cm_df = pd.DataFrame(cm, index=[f\"Verdadeiro_{i}\" for i in range(10)],\n",
        "                         columns=[f\"Predito_{i}\" for i in range(10)])\n",
        "\n",
        "plt.figure(figsize=(10,8))\n",
        "sns.heatmap(cm_df, annot=True, fmt='d', cmap='Blues')\n",
        "plt.title(\"Matriz de Confusão (contagens)\")\n",
        "plt.ylabel(\"Verdadeiro\")\n",
        "plt.xlabel(\"Predito\")\n",
        "plt.show()\n",
        "\n",
        "# Normalizada por linha (recall por classe)\n",
        "cm_norm = cm.astype('float') / cm.sum(axis=1)[:, np.newaxis]\n",
        "plt.figure(figsize=(10,8))\n",
        "sns.heatmap(cm_norm, annot=True, fmt='.2f', cmap='Blues')\n",
        "plt.title(\"Matriz de Confusão (normalizada por linha)\")\n",
        "plt.ylabel(\"Verdadeiro\")\n",
        "plt.xlabel(\"Predito\")\n",
        "plt.show()\n"
      ],
      "metadata": {
        "colab": {
          "base_uri": "https://localhost:8080/",
          "height": 1000
        },
        "id": "zmNcPk23Z4GN",
        "outputId": "138fb944-9def-4110-8ee6-e5ebe5d80ee8"
      },
      "execution_count": null,
      "outputs": [
        {
          "output_type": "display_data",
          "data": {
            "text/plain": [
              "<Figure size 1000x800 with 2 Axes>"
            ],
            "image/png": "[encoded data removed]"
          },
          "metadata": {}
        },
        {
          "output_type": "display_data",
          "data": {
            "text/plain": [
              "<Figure size 1000x800 with 2 Axes>"
            ],
            "image/png": "[encoded data removed]"
          },
          "metadata": {}
        }
      ]
    },
    {
      "cell_type": "markdown",
      "source": [
        "## 6) Calcular VP, VN, FP, FN e métricas por classe (automaticamente)\n",
        "Explicando:\n",
        "- Para cada classe `i`:\n",
        "  - VP = cm[i,i]\n",
        "  - FN = sum da linha i (todos rótulos verdadeiros i) - VP\n",
        "  - FP = sum da coluna i (todos preditos como i) - VP\n",
        "  - VN = total - (VP + FN + FP)\n",
        "Com esses valores calculamos: Acurácia (por classe), Precisão, Recall, Especificidade e F1.\n"
      ],
      "metadata": {
        "id": "0RWG3vETZ5uy"
      }
    },
    {
      "cell_type": "code",
      "source": [
        "# ============ Função para calcular métricas por classe ============\n",
        "def metrics_from_confusion_matrix(cm):\n",
        "    classes = cm.shape[0]\n",
        "    total = cm.sum()\n",
        "    rowsum = cm.sum(axis=1)\n",
        "    colsum = cm.sum(axis=0)\n",
        "\n",
        "    results = []\n",
        "    for i in range(classes):\n",
        "        VP = int(cm[i,i])\n",
        "        FN = int(rowsum[i] - VP)\n",
        "        FP = int(colsum[i] - VP)\n",
        "        VN = int(total - (VP + FN + FP))\n",
        "\n",
        "        # Métricas\n",
        "        acc = (VP + VN) / total if total != 0 else 0\n",
        "        prec = VP / (VP + FP) if (VP + FP) != 0 else 0\n",
        "        rec = VP / (VP + FN) if (VP + FN) != 0 else 0\n",
        "        spec = VN / (VN + FP) if (VN + FP) != 0 else 0\n",
        "        f1 = 2 * (prec * rec) / (prec + rec) if (prec + rec) != 0 else 0\n",
        "\n",
        "        results.append({\n",
        "            \"classe\": i,\n",
        "            \"VP\": VP, \"VN\": VN, \"FP\": FP, \"FN\": FN,\n",
        "            \"acuracia_por_classe\": acc,\n",
        "            \"precisao\": prec,\n",
        "            \"recall\": rec,\n",
        "            \"especificidade\": spec,\n",
        "            \"f1\": f1,\n",
        "            \"support\": int(rowsum[i])\n",
        "        })\n",
        "\n",
        "    df = pd.DataFrame(results)\n",
        "    # formatar com casas decimais\n",
        "    df[[\"acuracia_por_classe\",\"precisao\",\"recall\",\"especificidade\",\"f1\"]] = df[[\"acuracia_por_classe\",\"precisao\",\"recall\",\"especificidade\",\"f1\"]].round(4)\n",
        "    return df\n",
        "\n",
        "metrics_df = metrics_from_confusion_matrix(cm)\n",
        "metrics_df\n"
      ],
      "metadata": {
        "colab": {
          "base_uri": "https://localhost:8080/",
          "height": 363
        },
        "id": "VKlVOJhfZ7J0",
        "outputId": "b870082a-cd5c-4921-a9c6-d2f9866dbf99"
      },
      "execution_count": null,
      "outputs": [
        {
          "output_type": "execute_result",
          "data": {
            "text/plain": [
              "   classe    VP    VN  FP  FN  acuracia_por_classe  precisao  recall  \\\n",
              "0       0   974  9014   6   6               0.9988    0.9939  0.9939   \n",
              "1       1  1131  8854  11   4               0.9985    0.9904  0.9965   \n",
              "2       2  1019  8958  10  13               0.9977    0.9903  0.9874   \n",
              "3       3  1006  8980  10   4               0.9986    0.9902  0.9960   \n",
              "4       4   978  9007  11   4               0.9985    0.9889  0.9959   \n",
              "5       5   881  9095  13  11               0.9976    0.9855  0.9877   \n",
              "6       6   946  9035   7  12               0.9981    0.9927  0.9875   \n",
              "7       7  1008  8965   7  20               0.9973    0.9931  0.9805   \n",
              "8       8   967  9008  18   7               0.9975    0.9817  0.9928   \n",
              "9       9   989  8983   8  20               0.9972    0.9920  0.9802   \n",
              "\n",
              "   especificidade      f1  support  \n",
              "0          0.9993  0.9939      980  \n",
              "1          0.9988  0.9934     1135  \n",
              "2          0.9989  0.9888     1032  \n",
              "3          0.9989  0.9931     1010  \n",
              "4          0.9988  0.9924      982  \n",
              "5          0.9986  0.9866      892  \n",
              "6          0.9992  0.9901      958  \n",
              "7          0.9992  0.9868     1028  \n",
              "8          0.9980  0.9872      974  \n",
              "9          0.9991  0.9860     1009  "
            ],
            "text/html": [
              "\n",
              "  <div id=\"df-29901c9c-59ad-42a7-928f-fadabf5fa346\" class=\"colab-df-container\">\n",
              "    <div>\n",
              "<style scoped>\n",
              "    .dataframe tbody tr th:only-of-type {\n",
              "        vertical-align: middle;\n",
              "    }\n",
              "\n",
              "    .dataframe tbody tr th {\n",
              "        vertical-align: top;\n",
              "    }\n",
              "\n",
              "    .dataframe thead th {\n",
              "        text-align: right;\n",
              "    }\n",
              "</style>\n",
              "<table border=\"1\" class=\"dataframe\">\n",
              "  <thead>\n",
              "    <tr style=\"text-align: right;\">\n",
              "      <th></th>\n",
              "      <th>classe</th>\n",
              "      <th>VP</th>\n",
              "      <th>VN</th>\n",
              "      <th>FP</th>\n",
              "      <th>FN</th>\n",
              "      <th>acuracia_por_classe</th>\n",
              "      <th>precisao</th>\n",
              "      <th>recall</th>\n",
              "      <th>especificidade</th>\n",
              "      <th>f1</th>\n",
              "      <th>support</th>\n",
              "    </tr>\n",
              "  </thead>\n",
              "  <tbody>\n",
              "    <tr>\n",
              "      <th>0</th>\n",
              "      <td>0</td>\n",
              "      <td>974</td>\n",
              "      <td>9014</td>\n",
              "      <td>6</td>\n",
              "      <td>6</td>\n",
              "      <td>0.9988</td>\n",
              "      <td>0.9939</td>\n",
              "      <td>0.9939</td>\n",
              "      <td>0.9993</td>\n",
              "      <td>0.9939</td>\n",
              "      <td>980</td>\n",
              "    </tr>\n",
              "    <tr>\n",
              "      <th>1</th>\n",
              "      <td>1</td>\n",
              "      <td>1131</td>\n",
              "      <td>8854</td>\n",
              "      <td>11</td>\n",
              "      <td>4</td>\n",
              "      <td>0.9985</td>\n",
              "      <td>0.9904</td>\n",
              "      <td>0.9965</td>\n",
              "      <td>0.9988</td>\n",
              "      <td>0.9934</td>\n",
              "      <td>1135</td>\n",
              "    </tr>\n",
              "    <tr>\n",
              "      <th>2</th>\n",
              "      <td>2</td>\n",
              "      <td>1019</td>\n",
              "      <td>8958</td>\n",
              "      <td>10</td>\n",
              "      <td>13</td>\n",
              "      <td>0.9977</td>\n",
              "      <td>0.9903</td>\n",
              "      <td>0.9874</td>\n",
              "      <td>0.9989</td>\n",
              "      <td>0.9888</td>\n",
              "      <td>1032</td>\n",
              "    </tr>\n",
              "    <tr>\n",
              "      <th>3</th>\n",
              "      <td>3</td>\n",
              "      <td>1006</td>\n",
              "      <td>8980</td>\n",
              "      <td>10</td>\n",
              "      <td>4</td>\n",
              "      <td>0.9986</td>\n",
              "      <td>0.9902</td>\n",
              "      <td>0.9960</td>\n",
              "      <td>0.9989</td>\n",
              "      <td>0.9931</td>\n",
              "      <td>1010</td>\n",
              "    </tr>\n",
              "    <tr>\n",
              "      <th>4</th>\n",
              "      <td>4</td>\n",
              "      <td>978</td>\n",
              "      <td>9007</td>\n",
              "      <td>11</td>\n",
              "      <td>4</td>\n",
              "      <td>0.9985</td>\n",
              "      <td>0.9889</td>\n",
              "      <td>0.9959</td>\n",
              "      <td>0.9988</td>\n",
              "      <td>0.9924</td>\n",
              "      <td>982</td>\n",
              "    </tr>\n",
              "    <tr>\n",
              "      <th>5</th>\n",
              "      <td>5</td>\n",
              "      <td>881</td>\n",
              "      <td>9095</td>\n",
              "      <td>13</td>\n",
              "      <td>11</td>\n",
              "      <td>0.9976</td>\n",
              "      <td>0.9855</td>\n",
              "      <td>0.9877</td>\n",
              "      <td>0.9986</td>\n",
              "      <td>0.9866</td>\n",
              "      <td>892</td>\n",
              "    </tr>\n",
              "    <tr>\n",
              "      <th>6</th>\n",
              "      <td>6</td>\n",
              "      <td>946</td>\n",
              "      <td>9035</td>\n",
              "      <td>7</td>\n",
              "      <td>12</td>\n",
              "      <td>0.9981</td>\n",
              "      <td>0.9927</td>\n",
              "      <td>0.9875</td>\n",
              "      <td>0.9992</td>\n",
              "      <td>0.9901</td>\n",
              "      <td>958</td>\n",
              "    </tr>\n",
              "    <tr>\n",
              "      <th>7</th>\n",
              "      <td>7</td>\n",
              "      <td>1008</td>\n",
              "      <td>8965</td>\n",
              "      <td>7</td>\n",
              "      <td>20</td>\n",
              "      <td>0.9973</td>\n",
              "      <td>0.9931</td>\n",
              "      <td>0.9805</td>\n",
              "      <td>0.9992</td>\n",
              "      <td>0.9868</td>\n",
              "      <td>1028</td>\n",
              "    </tr>\n",
              "    <tr>\n",
              "      <th>8</th>\n",
              "      <td>8</td>\n",
              "      <td>967</td>\n",
              "      <td>9008</td>\n",
              "      <td>18</td>\n",
              "      <td>7</td>\n",
              "      <td>0.9975</td>\n",
              "      <td>0.9817</td>\n",
              "      <td>0.9928</td>\n",
              "      <td>0.9980</td>\n",
              "      <td>0.9872</td>\n",
              "      <td>974</td>\n",
              "    </tr>\n",
              "    <tr>\n",
              "      <th>9</th>\n",
              "      <td>9</td>\n",
              "      <td>989</td>\n",
              "      <td>8983</td>\n",
              "      <td>8</td>\n",
              "      <td>20</td>\n",
              "      <td>0.9972</td>\n",
              "      <td>0.9920</td>\n",
              "      <td>0.9802</td>\n",
              "      <td>0.9991</td>\n",
              "      <td>0.9860</td>\n",
              "      <td>1009</td>\n",
              "    </tr>\n",
              "  </tbody>\n",
              "</table>\n",
              "</div>\n",
              "    <div class=\"colab-df-buttons\">\n",
              "\n",
              "  <div class=\"colab-df-container\">\n",
              "    <button class=\"colab-df-convert\" onclick=\"convertToInteractive('df-29901c9c-59ad-42a7-928f-fadabf5fa346')\"\n",
              "            title=\"Convert this dataframe to an interactive table.\"\n",
              "            style=\"display:none;\">\n",
              "\n",
              "  <svg xmlns=\"http://www.w3.org/2000/svg\" height=\"24px\" viewBox=\"0 -960 960 960\">\n",
              "    <path d=\"M120-120v-720h720v720H120Zm60-500h600v-160H180v160Zm220 220h160v-160H400v160Zm0 220h160v-160H400v160ZM180-400h160v-160H180v160Zm440 0h160v-160H620v160ZM180-180h160v-160H180v160Zm440 0h160v-160H620v160Z\"/>\n",
              "  </svg>\n",
              "    </button>\n",
              "\n",
              "  <style>\n",
              "    .colab-df-container {\n",
              "      display:flex;\n",
              "      gap: 12px;\n",
              "    }\n",
              "\n",
              "    .colab-df-convert {\n",
              "      background-color: #E8F0FE;\n",
              "      border: none;\n",
              "      border-radius: 50%;\n",
              "      cursor: pointer;\n",
              "      display: none;\n",
              "      fill: #1967D2;\n",
              "      height: 32px;\n",
              "      padding: 0 0 0 0;\n",
              "      width: 32px;\n",
              "    }\n",
              "\n",
              "    .colab-df-convert:hover {\n",
              "      background-color: #E2EBFA;\n",
              "      box-shadow: 0px 1px 2px rgba(60, 64, 67, 0.3), 0px 1px 3px 1px rgba(60, 64, 67, 0.15);\n",
              "      fill: #174EA6;\n",
              "    }\n",
              "\n",
              "    .colab-df-buttons div {\n",
              "      margin-bottom: 4px;\n",
              "    }\n",
              "\n",
              "    [theme=dark] .colab-df-convert {\n",
              "      background-color: #3B4455;\n",
              "      fill: #D2E3FC;\n",
              "    }\n",
              "\n",
              "    [theme=dark] .colab-df-convert:hover {\n",
              "      background-color: #434B5C;\n",
              "      box-shadow: 0px 1px 3px 1px rgba(0, 0, 0, 0.15);\n",
              "      filter: drop-shadow(0px 1px 2px rgba(0, 0, 0, 0.3));\n",
              "      fill: #FFFFFF;\n",
              "    }\n",
              "  </style>\n",
              "\n",
              "    <script>\n",
              "      const buttonEl =\n",
              "        document.querySelector('#df-29901c9c-59ad-42a7-928f-fadabf5fa346 button.colab-df-convert');\n",
              "      buttonEl.style.display =\n",
              "        google.colab.kernel.accessAllowed ? 'block' : 'none';\n",
              "\n",
              "      async function convertToInteractive(key) {\n",
              "        const element = document.querySelector('#df-29901c9c-59ad-42a7-928f-fadabf5fa346');\n",
              "        const dataTable =\n",
              "          await google.colab.kernel.invokeFunction('convertToInteractive',\n",
              "                                                    [key], {});\n",
              "        if (!dataTable) return;\n",
              "\n",
              "        const docLinkHtml = 'Like what you see? Visit the ' +\n",
              "          '<a target=\"_blank\" href=https://colab.research.google.com/notebooks/data_table.ipynb>data table notebook</a>'\n",
              "          + ' to learn more about interactive tables.';\n",
              "        element.innerHTML = '';\n",
              "        dataTable['output_type'] = 'display_data';\n",
              "        await google.colab.output.renderOutput(dataTable, element);\n",
              "        const docLink = document.createElement('div');\n",
              "        docLink.innerHTML = docLinkHtml;\n",
              "        element.appendChild(docLink);\n",
              "      }\n",
              "    </script>\n",
              "  </div>\n",
              "\n",
              "\n",
              "    <div id=\"df-e965fd16-a15a-4d01-a2aa-9c8e51a7304f\">\n",
              "      <button class=\"colab-df-quickchart\" onclick=\"quickchart('df-e965fd16-a15a-4d01-a2aa-9c8e51a7304f')\"\n",
              "                title=\"Suggest charts\"\n",
              "                style=\"display:none;\">\n",
              "\n",
              "<svg xmlns=\"http://www.w3.org/2000/svg\" height=\"24px\"viewBox=\"0 0 24 24\"\n",
              "     width=\"24px\">\n",
              "    <g>\n",
              "        <path d=\"M19 3H5c-1.1 0-2 .9-2 2v14c0 1.1.9 2 2 2h14c1.1 0 2-.9 2-2V5c0-1.1-.9-2-2-2zM9 17H7v-7h2v7zm4 0h-2V7h2v10zm4 0h-2v-4h2v4z\"/>\n",
              "    </g>\n",
              "</svg>\n",
              "      </button>\n",
              "\n",
              "<style>\n",
              "  .colab-df-quickchart {\n",
              "      --bg-color: #E8F0FE;\n",
              "      --fill-color: #1967D2;\n",
              "      --hover-bg-color: #E2EBFA;\n",
              "      --hover-fill-color: #174EA6;\n",
              "      --disabled-fill-color: #AAA;\n",
              "      --disabled-bg-color: #DDD;\n",
              "  }\n",
              "\n",
              "  [theme=dark] .colab-df-quickchart {\n",
              "      --bg-color: #3B4455;\n",
              "      --fill-color: #D2E3FC;\n",
              "      --hover-bg-color: #434B5C;\n",
              "      --hover-fill-color: #FFFFFF;\n",
              "      --disabled-bg-color: #3B4455;\n",
              "      --disabled-fill-color: #666;\n",
              "  }\n",
              "\n",
              "  .colab-df-quickchart {\n",
              "    background-color: var(--bg-color);\n",
              "    border: none;\n",
              "    border-radius: 50%;\n",
              "    cursor: pointer;\n",
              "    display: none;\n",
              "    fill: var(--fill-color);\n",
              "    height: 32px;\n",
              "    padding: 0;\n",
              "    width: 32px;\n",
              "  }\n",
              "\n",
              "  .colab-df-quickchart:hover {\n",
              "    background-color: var(--hover-bg-color);\n",
              "    box-shadow: 0 1px 2px rgba(60, 64, 67, 0.3), 0 1px 3px 1px rgba(60, 64, 67, 0.15);\n",
              "    fill: var(--button-hover-fill-color);\n",
              "  }\n",
              "\n",
              "  .colab-df-quickchart-complete:disabled,\n",
              "  .colab-df-quickchart-complete:disabled:hover {\n",
              "    background-color: var(--disabled-bg-color);\n",
              "    fill: var(--disabled-fill-color);\n",
              "    box-shadow: none;\n",
              "  }\n",
              "\n",
              "  .colab-df-spinner {\n",
              "    border: 2px solid var(--fill-color);\n",
              "    border-color: transparent;\n",
              "    border-bottom-color: var(--fill-color);\n",
              "    animation:\n",
              "      spin 1s steps(1) infinite;\n",
              "  }\n",
              "\n",
              "  @keyframes spin {\n",
              "    0% {\n",
              "      border-color: transparent;\n",
              "      border-bottom-color: var(--fill-color);\n",
              "      border-left-color: var(--fill-color);\n",
              "    }\n",
              "    20% {\n",
              "      border-color: transparent;\n",
              "      border-left-color: var(--fill-color);\n",
              "      border-top-color: var(--fill-color);\n",
              "    }\n",
              "    30% {\n",
              "      border-color: transparent;\n",
              "      border-left-color: var(--fill-color);\n",
              "      border-top-color: var(--fill-color);\n",
              "      border-right-color: var(--fill-color);\n",
              "    }\n",
              "    40% {\n",
              "      border-color: transparent;\n",
              "      border-right-color: var(--fill-color);\n",
              "      border-top-color: var(--fill-color);\n",
              "    }\n",
              "    60% {\n",
              "      border-color: transparent;\n",
              "      border-right-color: var(--fill-color);\n",
              "    }\n",
              "    80% {\n",
              "      border-color: transparent;\n",
              "      border-right-color: var(--fill-color);\n",
              "      border-bottom-color: var(--fill-color);\n",
              "    }\n",
              "    90% {\n",
              "      border-color: transparent;\n",
              "      border-bottom-color: var(--fill-color);\n",
              "    }\n",
              "  }\n",
              "</style>\n",
              "\n",
              "      <script>\n",
              "        async function quickchart(key) {\n",
              "          const quickchartButtonEl =\n",
              "            document.querySelector('#' + key + ' button');\n",
              "          quickchartButtonEl.disabled = true;  // To prevent multiple clicks.\n",
              "          quickchartButtonEl.classList.add('colab-df-spinner');\n",
              "          try {\n",
              "            const charts = await google.colab.kernel.invokeFunction(\n",
              "                'suggestCharts', [key], {});\n",
              "          } catch (error) {\n",
              "            console.error('Error during call to suggestCharts:', error);\n",
              "          }\n",
              "          quickchartButtonEl.classList.remove('colab-df-spinner');\n",
              "          quickchartButtonEl.classList.add('colab-df-quickchart-complete');\n",
              "        }\n",
              "        (() => {\n",
              "          let quickchartButtonEl =\n",
              "            document.querySelector('#df-e965fd16-a15a-4d01-a2aa-9c8e51a7304f button');\n",
              "          quickchartButtonEl.style.display =\n",
              "            google.colab.kernel.accessAllowed ? 'block' : 'none';\n",
              "        })();\n",
              "      </script>\n",
              "    </div>\n",
              "\n",
              "  <div id=\"id_d470873a-8f89-4740-ba71-17c3768f7ee5\">\n",
              "    <style>\n",
              "      .colab-df-generate {\n",
              "        background-color: #E8F0FE;\n",
              "        border: none;\n",
              "        border-radius: 50%;\n",
              "        cursor: pointer;\n",
              "        display: none;\n",
              "        fill: #1967D2;\n",
              "        height: 32px;\n",
              "        padding: 0 0 0 0;\n",
              "        width: 32px;\n",
              "      }\n",
              "\n",
              "      .colab-df-generate:hover {\n",
              "        background-color: #E2EBFA;\n",
              "        box-shadow: 0px 1px 2px rgba(60, 64, 67, 0.3), 0px 1px 3px 1px rgba(60, 64, 67, 0.15);\n",
              "        fill: #174EA6;\n",
              "      }\n",
              "\n",
              "      [theme=dark] .colab-df-generate {\n",
              "        background-color: #3B4455;\n",
              "        fill: #D2E3FC;\n",
              "      }\n",
              "\n",
              "      [theme=dark] .colab-df-generate:hover {\n",
              "        background-color: #434B5C;\n",
              "        box-shadow: 0px 1px 3px 1px rgba(0, 0, 0, 0.15);\n",
              "        filter: drop-shadow(0px 1px 2px rgba(0, 0, 0, 0.3));\n",
              "        fill: #FFFFFF;\n",
              "      }\n",
              "    </style>\n",
              "    <button class=\"colab-df-generate\" onclick=\"generateWithVariable('metrics_df')\"\n",
              "            title=\"Generate code using this dataframe.\"\n",
              "            style=\"display:none;\">\n",
              "\n",
              "  <svg xmlns=\"http://www.w3.org/2000/svg\" height=\"24px\"viewBox=\"0 0 24 24\"\n",
              "       width=\"24px\">\n",
              "    <path d=\"M7,19H8.4L18.45,9,17,7.55,7,17.6ZM5,21V16.75L18.45,3.32a2,2,0,0,1,2.83,0l1.4,1.43a1.91,1.91,0,0,1,.58,1.4,1.91,1.91,0,0,1-.58,1.4L9.25,21ZM18.45,9,17,7.55Zm-12,3A5.31,5.31,0,0,0,4.9,8.1,5.31,5.31,0,0,0,1,6.5,5.31,5.31,0,0,0,4.9,4.9,5.31,5.31,0,0,0,6.5,1,5.31,5.31,0,0,0,8.1,4.9,5.31,5.31,0,0,0,12,6.5,5.46,5.46,0,0,0,6.5,12Z\"/>\n",
              "  </svg>\n",
              "    </button>\n",
              "    <script>\n",
              "      (() => {\n",
              "      const buttonEl =\n",
              "        document.querySelector('#id_d470873a-8f89-4740-ba71-17c3768f7ee5 button.colab-df-generate');\n",
              "      buttonEl.style.display =\n",
              "        google.colab.kernel.accessAllowed ? 'block' : 'none';\n",
              "\n",
              "      buttonEl.onclick = () => {\n",
              "        google.colab.notebook.generateWithVariable('metrics_df');\n",
              "      }\n",
              "      })();\n",
              "    </script>\n",
              "  </div>\n",
              "\n",
              "    </div>\n",
              "  </div>\n"
            ],
            "application/vnd.google.colaboratory.intrinsic+json": {
              "type": "dataframe",
              "variable_name": "metrics_df",
              "summary": "{\n  \"name\": \"metrics_df\",\n  \"rows\": 10,\n  \"fields\": [\n    {\n      \"column\": \"classe\",\n      \"properties\": {\n        \"dtype\": \"number\",\n        \"std\": 3,\n        \"min\": 0,\n        \"max\": 9,\n        \"num_unique_values\": 10,\n        \"samples\": [\n          8,\n          1,\n          5\n        ],\n        \"semantic_type\": \"\",\n        \"description\": \"\"\n      }\n    },\n    {\n      \"column\": \"VP\",\n      \"properties\": {\n        \"dtype\": \"number\",\n        \"std\": 63,\n        \"min\": 881,\n        \"max\": 1131,\n        \"num_unique_values\": 10,\n        \"samples\": [\n          967,\n          1131,\n          881\n        ],\n        \"semantic_type\": \"\",\n        \"description\": \"\"\n      }\n    },\n    {\n      \"column\": \"VN\",\n      \"properties\": {\n        \"dtype\": \"number\",\n        \"std\": 61,\n        \"min\": 8854,\n        \"max\": 9095,\n        \"num_unique_values\": 10,\n        \"samples\": [\n          9008,\n          8854,\n          9095\n        ],\n        \"semantic_type\": \"\",\n        \"description\": \"\"\n      }\n    },\n    {\n      \"column\": \"FP\",\n      \"properties\": {\n        \"dtype\": \"number\",\n        \"std\": 3,\n        \"min\": 6,\n        \"max\": 18,\n        \"num_unique_values\": 7,\n        \"samples\": [\n          6,\n          11,\n          18\n        ],\n        \"semantic_type\": \"\",\n        \"description\": \"\"\n      }\n    },\n    {\n      \"column\": \"FN\",\n      \"properties\": {\n        \"dtype\": \"number\",\n        \"std\": 6,\n        \"min\": 4,\n        \"max\": 20,\n        \"num_unique_values\": 7,\n        \"samples\": [\n          6,\n          4,\n          20\n        ],\n        \"semantic_type\": \"\",\n        \"description\": \"\"\n      }\n    },\n    {\n      \"column\": \"acuracia_por_classe\",\n      \"properties\": {\n        \"dtype\": \"number\",\n        \"std\": 0.0005902918298981148,\n        \"min\": 0.9972,\n        \"max\": 0.9988,\n        \"num_unique_values\": 9,\n        \"samples\": [\n          0.9975,\n          0.9985,\n          0.9981\n        ],\n        \"semantic_type\": \"\",\n        \"description\": \"\"\n      }\n    },\n    {\n      \"column\": \"precisao\",\n      \"properties\": {\n        \"dtype\": \"number\",\n        \"std\": 0.003750274064059249,\n        \"min\": 0.9817,\n        \"max\": 0.9939,\n        \"num_unique_values\": 10,\n        \"samples\": [\n          0.9817,\n          0.9904,\n          0.9855\n        ],\n        \"semantic_type\": \"\",\n        \"description\": \"\"\n      }\n    },\n    {\n      \"column\": \"recall\",\n      \"properties\": {\n        \"dtype\": \"number\",\n        \"std\": 0.006150374875656861,\n        \"min\": 0.9802,\n        \"max\": 0.9965,\n        \"num_unique_values\": 10,\n        \"samples\": [\n          0.9928,\n          0.9965,\n          0.9877\n        ],\n        \"semantic_type\": \"\",\n        \"description\": \"\"\n      }\n    },\n    {\n      \"column\": \"especificidade\",\n      \"properties\": {\n        \"dtype\": \"number\",\n        \"std\": 0.00037947331922019234,\n        \"min\": 0.998,\n        \"max\": 0.9993,\n        \"num_unique_values\": 7,\n        \"samples\": [\n          0.9993,\n          0.9988,\n          0.998\n        ],\n        \"semantic_type\": \"\",\n        \"description\": \"\"\n      }\n    },\n    {\n      \"column\": \"f1\",\n      \"properties\": {\n        \"dtype\": \"number\",\n        \"std\": 0.003143617873300324,\n        \"min\": 0.986,\n        \"max\": 0.9939,\n        \"num_unique_values\": 10,\n        \"samples\": [\n          0.9872,\n          0.9934,\n          0.9866\n        ],\n        \"semantic_type\": \"\",\n        \"description\": \"\"\n      }\n    },\n    {\n      \"column\": \"support\",\n      \"properties\": {\n        \"dtype\": \"number\",\n        \"std\": 62,\n        \"min\": 892,\n        \"max\": 1135,\n        \"num_unique_values\": 10,\n        \"samples\": [\n          974,\n          1135,\n          892\n        ],\n        \"semantic_type\": \"\",\n        \"description\": \"\"\n      }\n    }\n  ]\n}"
            }
          },
          "metadata": {},
          "execution_count": 7
        }
      ]
    },
    {
      "cell_type": "markdown",
      "source": [
        "## 7) Médias (macro / weighted) e comparação com `classification_report`\n",
        "- **Macro**: média simples das métricas por classe.\n",
        "- **Weighted**: média ponderada pelo `support` (número de exemplos por classe).\n",
        "Também mostramos o `classification_report` do sklearn (precisão/recall/f1 já conhecidos).\n"
      ],
      "metadata": {
        "id": "KbgHeEBZZ8yT"
      }
    },
    {
      "cell_type": "code",
      "source": [
        "# Médias manualmente\n",
        "macro = metrics_df[[\"precisao\",\"recall\",\"f1\"]].mean().rename(\"macro\")\n",
        "weighted = (metrics_df[[\"precisao\",\"recall\",\"f1\"]].mul(metrics_df[\"support\"], axis=0).sum() / metrics_df[\"support\"].sum()).rename(\"weighted\")\n",
        "\n",
        "print(\"Médias (macro):\")\n",
        "print(macro.to_frame().T)\n",
        "print(\"\\nMédias (weighted):\")\n",
        "print(weighted.to_frame().T)\n",
        "\n",
        "# classification_report (sklearn)\n",
        "print(\"\\nclassification_report (sklearn):\")\n",
        "print(classification_report(y_test, y_pred, digits=4))\n"
      ],
      "metadata": {
        "colab": {
          "base_uri": "https://localhost:8080/"
        },
        "id": "5uRlLDXDZ-LX",
        "outputId": "3d437592-f89f-4ff5-e028-87118777a07c"
      },
      "execution_count": null,
      "outputs": [
        {
          "output_type": "stream",
          "name": "stdout",
          "text": [
            "Médias (macro):\n",
            "       precisao   recall       f1\n",
            "macro   0.98987  0.98984  0.98983\n",
            "\n",
            "Médias (weighted):\n",
            "          precisao  recall        f1\n",
            "weighted   0.98994  0.9899  0.989894\n",
            "\n",
            "classification_report (sklearn):\n",
            "              precision    recall  f1-score   support\n",
            "\n",
            "           0     0.9939    0.9939    0.9939       980\n",
            "           1     0.9904    0.9965    0.9934      1135\n",
            "           2     0.9903    0.9874    0.9888      1032\n",
            "           3     0.9902    0.9960    0.9931      1010\n",
            "           4     0.9889    0.9959    0.9924       982\n",
            "           5     0.9855    0.9877    0.9866       892\n",
            "           6     0.9927    0.9875    0.9901       958\n",
            "           7     0.9931    0.9805    0.9868      1028\n",
            "           8     0.9817    0.9928    0.9872       974\n",
            "           9     0.9920    0.9802    0.9860      1009\n",
            "\n",
            "    accuracy                         0.9899     10000\n",
            "   macro avg     0.9898    0.9898    0.9898     10000\n",
            "weighted avg     0.9899    0.9899    0.9899     10000\n",
            "\n"
          ]
        }
      ]
    }
  ]
}